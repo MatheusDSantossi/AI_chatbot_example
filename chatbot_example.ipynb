{
  "nbformat": 4,
  "nbformat_minor": 0,
  "metadata": {
    "colab": {
      "provenance": [],
      "authorship_tag": "ABX9TyOv747IyezVVU6u/OLFZkmK",
      "include_colab_link": true
    },
    "kernelspec": {
      "name": "python3",
      "display_name": "Python 3"
    },
    "language_info": {
      "name": "python"
    }
  },
  "cells": [
    {
      "cell_type": "markdown",
      "metadata": {
        "id": "view-in-github",
        "colab_type": "text"
      },
      "source": [
        "<a href=\"https://colab.research.google.com/github/MatheusDSantossi/AI_chatbot_example/blob/main/chatbot_example.ipynb\" target=\"_parent\"><img src=\"https://colab.research.google.com/assets/colab-badge.svg\" alt=\"Open In Colab\"/></a>"
      ]
    },
    {
      "cell_type": "markdown",
      "source": [
        "Installing the Google SDK"
      ],
      "metadata": {
        "id": "u7ETIjggxJur"
      }
    },
    {
      "cell_type": "code",
      "execution_count": 1,
      "metadata": {
        "id": "Se5cwSLAvGdu"
      },
      "outputs": [],
      "source": [
        "!pip install -q -U google-generativeai"
      ]
    },
    {
      "cell_type": "code",
      "source": [
        "import google.generativeai as genai\n",
        "from google.colab import userdata\n",
        "\n",
        "GOOGLE_API_KEY = userdata.get('SECRET_KEY')\n",
        "genai.configure(api_key=GOOGLE_API_KEY)"
      ],
      "metadata": {
        "id": "vwQjbJqcxSaO"
      },
      "execution_count": 3,
      "outputs": []
    },
    {
      "cell_type": "markdown",
      "source": [
        "List the available models"
      ],
      "metadata": {
        "id": "VyzWQLqWxfFW"
      }
    },
    {
      "cell_type": "markdown",
      "source": [],
      "metadata": {
        "id": "LXaHnkPa_FoU"
      }
    },
    {
      "cell_type": "code",
      "source": [
        "for i in genai.list_models():\n",
        "  if 'generateContent' in i.supported_generation_methods:\n",
        "    print(i.name)\n",
        "\n",
        "# the model pro is only for test the model pro-vision is for video, images and files"
      ],
      "metadata": {
        "colab": {
          "base_uri": "https://localhost:8080/",
          "height": 138
        },
        "id": "49_DON_Sxd7K",
        "outputId": "8d019e93-12c7-4901-c6b4-34544520dd07"
      },
      "execution_count": 6,
      "outputs": [
        {
          "output_type": "stream",
          "name": "stdout",
          "text": [
            "models/gemini-1.0-pro\n",
            "models/gemini-1.0-pro-001\n",
            "models/gemini-1.0-pro-latest\n",
            "models/gemini-1.0-pro-vision-latest\n",
            "models/gemini-1.5-pro-latest\n",
            "models/gemini-pro\n",
            "models/gemini-pro-vision\n"
          ]
        }
      ]
    },
    {
      "cell_type": "code",
      "source": [
        "generation_config = {\n",
        "    \"candidate_count\": 1,\n",
        "    \"temperature\": 0.7,\n",
        "    # \"top_k\": 40,\n",
        "    # \"top_p\": 0.95,\n",
        "    # \"seed\": 12345,\n",
        "}"
      ],
      "metadata": {
        "id": "QopyaRIB24mt"
      },
      "execution_count": 7,
      "outputs": []
    },
    {
      "cell_type": "code",
      "source": [
        "# Bloquear nenhum - BLOCK_NONE\n",
        "# Bloquear poucos - BLOCK_ONLY_HIGH\n",
        "# Bloquear alguns - BLOCK_MEDIUM_AND_ABOVE\n",
        "# Bloquear muitos - BLOCK_LOW_AND_ABOVE\n",
        "\n",
        "safety_settings = {\n",
        "    \"HARASSMENT\": \"BLOCK_NONE\",\n",
        "    \"HATE\": \"BLOCK_NONE\",\n",
        "    \"SEXUAL\": \"BLOCK_NONE\",\n",
        "    \"DANGEROUS\": \"BLOCK_NONE\",\n",
        "}"
      ],
      "metadata": {
        "id": "GF5vPZ_y3S82"
      },
      "execution_count": 11,
      "outputs": []
    },
    {
      "cell_type": "markdown",
      "source": [
        "Initializing the model"
      ],
      "metadata": {
        "id": "vQB9uNN539l3"
      }
    },
    {
      "cell_type": "code",
      "source": [
        "model = genai.GenerativeModel(model_name=\"gemini-1.0-pro\",\n",
        "                              generation_config=generation_config,\n",
        "                              safety_settings=safety_settings)"
      ],
      "metadata": {
        "id": "6SQQHiFc4AP0"
      },
      "execution_count": 12,
      "outputs": []
    },
    {
      "cell_type": "code",
      "source": [
        "response = model.generate_content(\"Quero usar a API do gemini para integrar a um e-commerce de supermercado, o que você me indicaria fazer?\")\n",
        "print(response.text)"
      ],
      "metadata": {
        "colab": {
          "base_uri": "https://localhost:8080/",
          "height": 728
        },
        "id": "GAlTTT9G4fe3",
        "outputId": "d11ecade-e7f3-4d74-a9e5-1abfcb8395f0"
      },
      "execution_count": 13,
      "outputs": [
        {
          "output_type": "stream",
          "name": "stdout",
          "text": [
            "**Integração da API Gemini para um E-commerce de Supermercado**\n",
            "\n",
            "**1. Crie uma Conta Gemini**\n",
            "\n",
            "* Crie uma conta na plataforma Gemini para obter acesso à API.\n",
            "\n",
            "**2. Obtenha as Chaves da API**\n",
            "\n",
            "* Acesse o painel da sua conta Gemini e gere as chaves da API.\n",
            "* Você precisará da chave de acesso e da chave secreta.\n",
            "\n",
            "**3. Instale a Biblioteca Gemini**\n",
            "\n",
            "* Instale a biblioteca Gemini no seu ambiente de desenvolvimento (por exemplo, Python, Ruby, Java).\n",
            "\n",
            "**4. Autentique-se na API**\n",
            "\n",
            "* Use a biblioteca Gemini para autenticar-se na API usando as chaves de acesso e secretas obtidas na etapa 2.\n",
            "\n",
            "**5. Integre os Pontos de Extremidade da API**\n",
            "\n",
            "* Integre os seguintes pontos de extremidade da API Gemini no seu e-commerce de supermercado:\n",
            "    * **Produtos:** Buscar informações sobre produtos, incluindo nome, descrição, preço e disponibilidade.\n",
            "    * **Pedidos:** Criar, atualizar e buscar pedidos.\n",
            "    * **Estoque:** Verificar a disponibilidade de estoque de produtos em tempo real.\n",
            "    * **Entregas:** Agendar e gerenciar entregas de pedidos.\n",
            "\n",
            "**6. Trate os Erros da API**\n",
            "\n",
            "* Implemente o tratamento de erros para lidar com quaisquer erros ou exceções que possam ocorrer ao usar a API.\n",
            "\n",
            "**7. Teste e Depuração**\n",
            "\n",
            "* Teste completamente a integração da API para garantir que ela esteja funcionando corretamente.\n",
            "* Depure quaisquer erros ou problemas que possam surgir.\n",
            "\n",
            "**Dicas Adicionais:**\n",
            "\n",
            "* Use a documentação oficial da API Gemini para obter informações detalhadas sobre os pontos de extremidade e os parâmetros da API.\n",
            "* Considere usar uma ferramenta de gerenciamento de API para simplificar a integração e manutenção da API.\n",
            "* Fique atento às atualizações e melhorias da API Gemini para garantir que sua integração permaneça atualizada.\n"
          ]
        }
      ]
    },
    {
      "cell_type": "code",
      "source": [
        "chat = model.start_chat(history=[])"
      ],
      "metadata": {
        "id": "ebVuxUgB494n"
      },
      "execution_count": 15,
      "outputs": []
    },
    {
      "cell_type": "code",
      "source": [
        "prompt = input(\"Waiting the prompt: \")\n",
        "\n",
        "while prompt != \"exit\":\n",
        "  response = chat.send_message(prompt)\n",
        "  print(\"Resposta: \", response.text, \"\\n\")\n",
        "  prompt = input(\"Waiting the prompt: \")"
      ],
      "metadata": {
        "colab": {
          "base_uri": "https://localhost:8080/",
          "height": 243
        },
        "id": "yZ8Ppcyz5SCr",
        "outputId": "42eb5c98-39d4-4a76-f473-ea14574e7cc7"
      },
      "execution_count": 17,
      "outputs": [
        {
          "name": "stdout",
          "output_type": "stream",
          "text": [
            "Waiting the prompt: Qual é a capital do Japão?\n",
            "Resposta:  Tóquio \n",
            "\n",
            "Waiting the prompt: qual é a comida típica desse país?\n",
            "Resposta:  Sushi \n",
            "\n",
            "Waiting the prompt: O meu primo nasceu nessa cidade. Qual é a nacionaldiad edele?\n",
            "Resposta:  Japonesa \n",
            "\n",
            "Waiting the prompt: E qual é a população dessa cidade?\n",
            "Resposta:  13.960.324 (2023) \n",
            "\n",
            "Waiting the prompt: exit\n"
          ]
        }
      ]
    },
    {
      "cell_type": "code",
      "source": [
        "# Improving the visualitation\n",
        "# Code available in https://ai.google.dev/gemini-api/docs/get-started/python#import_packages\n",
        "\n",
        "import textwrap\n",
        "from IPython.display import display\n",
        "from IPython.display import Markdown\n",
        "\n",
        "def to_markdown(text):\n",
        "  text = text.replace('•', '  *')\n",
        "  return Markdown(textwrap.indent(text, '> ', predicate=lambda _: True))\n",
        "\n",
        "# Printing the history\n",
        "for message in chat.history:\n",
        "  display(to_markdown(f\"**{message.role}**: {message.parts[0].text}\"))\n",
        "  print(\"----------------------------------------------------------\")\n"
      ],
      "metadata": {
        "colab": {
          "base_uri": "https://localhost:8080/",
          "height": 519
        },
        "id": "wxqrti2M5aSj",
        "outputId": "2a53986d-ebab-4151-cfbf-2c99d94640d5"
      },
      "execution_count": 19,
      "outputs": [
        {
          "output_type": "display_data",
          "data": {
            "text/plain": [
              "<IPython.core.display.Markdown object>"
            ],
            "text/markdown": "> **user**: Qual é a capital do Japão?"
          },
          "metadata": {}
        },
        {
          "output_type": "stream",
          "name": "stdout",
          "text": [
            "----------------------------------------------------------\n"
          ]
        },
        {
          "output_type": "display_data",
          "data": {
            "text/plain": [
              "<IPython.core.display.Markdown object>"
            ],
            "text/markdown": "> **model**: Tóquio"
          },
          "metadata": {}
        },
        {
          "output_type": "stream",
          "name": "stdout",
          "text": [
            "----------------------------------------------------------\n"
          ]
        },
        {
          "output_type": "display_data",
          "data": {
            "text/plain": [
              "<IPython.core.display.Markdown object>"
            ],
            "text/markdown": "> **user**: qual é a comida típica desse país?"
          },
          "metadata": {}
        },
        {
          "output_type": "stream",
          "name": "stdout",
          "text": [
            "----------------------------------------------------------\n"
          ]
        },
        {
          "output_type": "display_data",
          "data": {
            "text/plain": [
              "<IPython.core.display.Markdown object>"
            ],
            "text/markdown": "> **model**: Sushi"
          },
          "metadata": {}
        },
        {
          "output_type": "stream",
          "name": "stdout",
          "text": [
            "----------------------------------------------------------\n"
          ]
        },
        {
          "output_type": "display_data",
          "data": {
            "text/plain": [
              "<IPython.core.display.Markdown object>"
            ],
            "text/markdown": "> **user**: O meu primo nasceu nessa cidade. Qual é a nacionaldiad edele?"
          },
          "metadata": {}
        },
        {
          "output_type": "stream",
          "name": "stdout",
          "text": [
            "----------------------------------------------------------\n"
          ]
        },
        {
          "output_type": "display_data",
          "data": {
            "text/plain": [
              "<IPython.core.display.Markdown object>"
            ],
            "text/markdown": "> **model**: Japonesa"
          },
          "metadata": {}
        },
        {
          "output_type": "stream",
          "name": "stdout",
          "text": [
            "----------------------------------------------------------\n"
          ]
        },
        {
          "output_type": "display_data",
          "data": {
            "text/plain": [
              "<IPython.core.display.Markdown object>"
            ],
            "text/markdown": "> **user**: E qual é a população dessa cidade?"
          },
          "metadata": {}
        },
        {
          "output_type": "stream",
          "name": "stdout",
          "text": [
            "----------------------------------------------------------\n"
          ]
        },
        {
          "output_type": "display_data",
          "data": {
            "text/plain": [
              "<IPython.core.display.Markdown object>"
            ],
            "text/markdown": "> **model**: 13.960.324 (2023)"
          },
          "metadata": {}
        },
        {
          "output_type": "stream",
          "name": "stdout",
          "text": [
            "----------------------------------------------------------\n"
          ]
        }
      ]
    }
  ]
}